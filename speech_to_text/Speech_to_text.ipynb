{
 "cells": [
  {
   "cell_type": "code",
   "execution_count": 1,
   "id": "f7d1a506",
   "metadata": {},
   "outputs": [
    {
     "name": "stderr",
     "output_type": "stream",
     "text": [
      "/Users/anuradhakrishnaratnam/opt/anaconda3/lib/python3.9/site-packages/pydub/utils.py:170: RuntimeWarning: Couldn't find ffmpeg or avconv - defaulting to ffmpeg, but may not work\n",
      "  warn(\"Couldn't find ffmpeg or avconv - defaulting to ffmpeg, but may not work\", RuntimeWarning)\n"
     ]
    }
   ],
   "source": [
    "# importing libraries \n",
    "import speech_recognition as sr \n",
    "import os \n",
    "from pydub import AudioSegment\n",
    "from pydub.silence import split_on_silence"
   ]
  },
  {
   "cell_type": "code",
   "execution_count": 6,
   "id": "066fc1bc",
   "metadata": {},
   "outputs": [],
   "source": [
    "# create a speech recognition object\n",
    "r = sr.Recognizer()\n",
    "\n",
    "# a function that splits the audio file into chunks\n",
    "# and applies speech recognition\n",
    "def get_large_audio_transcription(path):\n",
    "    \"\"\"\n",
    "    Splitting the large audio file into chunks\n",
    "    and apply speech recognition on each of these chunks\n",
    "    \"\"\"\n",
    "    # open the audio file using pydub\n",
    "    sound = AudioSegment.from_wav(path)  \n",
    "    # split audio sound where silence is 700 miliseconds or more and get chunks\n",
    "    chunks = split_on_silence(sound,\n",
    "        # experiment with this value for your target audio file\n",
    "        min_silence_len = 400,\n",
    "        # adjust this per requirement\n",
    "        silence_thresh = sound.dBFS-12,\n",
    "        # keep the silence for 1 second, adjustable as well\n",
    "        keep_silence=500,\n",
    "    )\n",
    "    folder_name = \"audio-chunks\"\n",
    "    # create a directory to store the audio chunks\n",
    "    if not os.path.isdir(folder_name):\n",
    "        os.mkdir(folder_name)\n",
    "    whole_text = \"\"\n",
    "    # process each chunk \n",
    "    for i, audio_chunk in enumerate(chunks, start=1):\n",
    "        chunk_filename = os.path.join(folder_name, f\"chunk{i}.wav\")\n",
    "        audio_chunk.export(chunk_filename, format=\"wav\")\n",
    "        # recognize the chunk\n",
    "        with sr.AudioFile(chunk_filename) as source:\n",
    "            audio_listened = r.record(source)\n",
    "            # converting it to text\n",
    "            try:\n",
    "                text = r.recognize_google(audio_listened)\n",
    "            except sr.UnknownValueError as e:\n",
    "                print(\"Error:\", str(e))\n",
    "            else:\n",
    "                text = f\"{text.capitalize()}. \"\n",
    "                print(chunk_filename, \":\", text)\n",
    "                whole_text += text\n",
    "    # return the text for all chunks detected\n",
    "    return whole_text\n"
   ]
  },
  {
   "cell_type": "code",
   "execution_count": 8,
   "id": "6303d785",
   "metadata": {},
   "outputs": [
    {
     "name": "stdout",
     "output_type": "stream",
     "text": [
      "Error: \n",
      "Error: \n",
      "Error: \n",
      "Error: \n",
      "audio-chunks/chunk5.wav : In my younger and more vulnerable years. \n",
      "audio-chunks/chunk6.wav : My father gave me some advice. \n",
      "audio-chunks/chunk7.wav : Always try to see the best in people he would say. \n",
      "audio-chunks/chunk8.wav : As a consequence i'm inclined to reserve all judgements even i have a limit back then. \n",
      "audio-chunks/chunk9.wav : All of us drank too much. \n",
      "Error: \n",
      "audio-chunks/chunk11.wav : The more in tune with the times we were. \n",
      "audio-chunks/chunk12.wav : The more we drink. \n",
      "audio-chunks/chunk13.wav : And none of us contributed anything. \n",
      "audio-chunks/chunk14.wav : New. \n",
      "audio-chunks/chunk15.wav : When i came back from new york i was disgusted. \n",
      "audio-chunks/chunk16.wav : I see mr carraway. \n",
      "Error: \n",
      "audio-chunks/chunk18.wav : Please everyone. \n",
      "audio-chunks/chunk19.wav : And everything. \n",
      "audio-chunks/chunk20.wav : Only one man was exempt from my disgust. \n",
      "audio-chunks/chunk21.wav : One man. \n",
      "audio-chunks/chunk22.wav : Mr carraway. \n",
      "audio-chunks/chunk23.wav : Gatsby. \n",
      "Error: \n",
      "audio-chunks/chunk25.wav : A friend of yours. \n",
      "audio-chunks/chunk26.wav : He was. \n",
      "audio-chunks/chunk27.wav : The single most hopeful person i've ever met. \n",
      "audio-chunks/chunk28.wav : And i'm ever likely to meet again. \n",
      "audio-chunks/chunk29.wav : There was something about him. \n",
      "audio-chunks/chunk30.wav : Sensitivity. \n",
      "audio-chunks/chunk31.wav : He was like. \n",
      "audio-chunks/chunk32.wav : Like one of those machines that register earthquakes 10,000 miles away. \n",
      "audio-chunks/chunk33.wav : Where's your meeting. \n",
      "audio-chunks/chunk34.wav : Weather. \n",
      "audio-chunks/chunk35.wav : How to party. \n",
      "audio-chunks/chunk36.wav : In new york. \n",
      "audio-chunks/chunk37.wav : In summer 1922 the temple with the city approached asteria record peace and wall street boonton steady golden drawer the parties were bigger the shows with broader the buildings were higher the morrow's were looser and the ban on alcohol had backfired making the liquor cheaper wall street was luring young and ambitious and i was one of them. \n",
      "\n",
      "Full text: In my younger and more vulnerable years. My father gave me some advice. Always try to see the best in people he would say. As a consequence i'm inclined to reserve all judgements even i have a limit back then. All of us drank too much. The more in tune with the times we were. The more we drink. And none of us contributed anything. New. When i came back from new york i was disgusted. I see mr carraway. Please everyone. And everything. Only one man was exempt from my disgust. One man. Mr carraway. Gatsby. A friend of yours. He was. The single most hopeful person i've ever met. And i'm ever likely to meet again. There was something about him. Sensitivity. He was like. Like one of those machines that register earthquakes 10,000 miles away. Where's your meeting. Weather. How to party. In new york. In summer 1922 the temple with the city approached asteria record peace and wall street boonton steady golden drawer the parties were bigger the shows with broader the buildings were higher the morrow's were looser and the ban on alcohol had backfired making the liquor cheaper wall street was luring young and ambitious and i was one of them. \n"
     ]
    }
   ],
   "source": [
    "path = \"../Project/The_Great_Gatsby_rgb/InputAudio.wav\"\n",
    "print(\"\\nFull text:\", get_large_audio_transcription(path))"
   ]
  }
 ],
 "metadata": {
  "kernelspec": {
   "display_name": "Python 3 (ipykernel)",
   "language": "python",
   "name": "python3"
  },
  "language_info": {
   "codemirror_mode": {
    "name": "ipython",
    "version": 3
   },
   "file_extension": ".py",
   "mimetype": "text/x-python",
   "name": "python",
   "nbconvert_exporter": "python",
   "pygments_lexer": "ipython3",
   "version": "3.9.12"
  }
 },
 "nbformat": 4,
 "nbformat_minor": 5
}
