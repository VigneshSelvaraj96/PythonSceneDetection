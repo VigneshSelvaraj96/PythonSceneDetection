{
 "cells": [
  {
   "cell_type": "code",
   "execution_count": 14,
   "id": "00f03d6a",
   "metadata": {},
   "outputs": [],
   "source": [
    "from scenedetect import SceneManager, open_video, ContentDetector\n",
    "import scenedetect\n",
    "import datetime"
   ]
  },
  {
   "cell_type": "code",
   "execution_count": 3,
   "id": "6f872257",
   "metadata": {},
   "outputs": [],
   "source": [
    "video_path = './Data/Ready_Player_One_rgb/InputVideo.mp4'"
   ]
  },
  {
   "cell_type": "code",
   "execution_count": 4,
   "id": "75b046da",
   "metadata": {},
   "outputs": [],
   "source": [
    "scene_threshold = 50\n",
    "#threshold (float) – Threshold the average change in pixel intensity must exceed to trigger a cut.\n",
    "\n",
    "shot_threshold = 40\n",
    "#threshold (float) – Threshold the average change in pixel intensity must exceed to trigger a cut.\n",
    "\n",
    "min_scene_length = 60\n",
    "#Once a cut is detected, this many frames must pass before a new one can be added to the scene list.\n",
    "\n",
    "min_shot_length = 50\n",
    "#Once a cut is detected, this many frames must pass before a new shot can be added to the shot list."
   ]
  },
  {
   "cell_type": "code",
   "execution_count": 5,
   "id": "996379d2",
   "metadata": {},
   "outputs": [],
   "source": [
    "def find_scenes(video_path):\n",
    "    video = open_video(video_path)\n",
    "    scene_manager = SceneManager()\n",
    "    scene_manager.add_detector(\n",
    "        ContentDetector(threshold=scene_threshold,min_scene_len=min_scene_length))\n",
    "    # Detect all scenes in video from current position to end.\n",
    "    scene_manager.detect_scenes(video)\n",
    "    # `get_scene_list` returns a list of start/end timecode pairs\n",
    "    # for each scene that was found.\n",
    "    return scene_manager.get_scene_list()"
   ]
  },
  {
   "cell_type": "code",
   "execution_count": 6,
   "id": "eeeb6a67",
   "metadata": {
    "scrolled": true
   },
   "outputs": [
    {
     "name": "stdout",
     "output_type": "stream",
     "text": [
      "Start: 00:00:00.000 Stop: 00:01:58.200\n",
      "Start: 00:01:58.200 Stop: 00:03:24.667\n",
      "Start: 00:03:24.667 Stop: 00:03:48.533\n",
      "Start: 00:03:48.533 Stop: 00:04:13.033\n",
      "Start: 00:04:13.033 Stop: 00:04:15.633\n",
      "Start: 00:04:15.633 Stop: 00:04:29.333\n",
      "Start: 00:04:29.333 Stop: 00:04:49.367\n"
     ]
    }
   ],
   "source": [
    "scenes = find_scenes(video_path)\n",
    "for scene in scenes:\n",
    "    print('Start: {} Stop: {}'.format(scene[0].get_timecode(),scene[1].get_timecode()))"
   ]
  },
  {
   "cell_type": "code",
   "execution_count": 7,
   "id": "3579fa86",
   "metadata": {},
   "outputs": [
    {
     "name": "stdout",
     "output_type": "stream",
     "text": [
      "This is the shot list for scene: (00:00:00.000 [frame=0, fps=30.000], 00:01:58.200 [frame=3546, fps=30.000])\n",
      "\n",
      "\n",
      "Start: 00:00:00.000 Stop: 00:01:58.200\n",
      "\n",
      "\n",
      "This is the shot list for scene: (00:01:58.200 [frame=3546, fps=30.000], 00:03:24.667 [frame=6140, fps=30.000])\n",
      "\n",
      "\n",
      "Start: 00:01:58.200 Stop: 00:02:24.867\n",
      "Start: 00:02:24.867 Stop: 00:03:06.633\n",
      "Start: 00:03:06.633 Stop: 00:03:24.667\n",
      "\n",
      "\n",
      "This is the shot list for scene: (00:03:24.667 [frame=6140, fps=30.000], 00:03:48.533 [frame=6856, fps=30.000])\n",
      "\n",
      "\n",
      "Start: 00:03:24.667 Stop: 00:03:48.533\n",
      "\n",
      "\n",
      "This is the shot list for scene: (00:03:48.533 [frame=6856, fps=30.000], 00:04:13.033 [frame=7591, fps=30.000])\n",
      "\n",
      "\n",
      "Start: 00:03:48.533 Stop: 00:04:13.033\n",
      "\n",
      "\n",
      "This is the shot list for scene: (00:04:13.033 [frame=7591, fps=30.000], 00:04:15.633 [frame=7669, fps=30.000])\n",
      "\n",
      "\n",
      "Start: 00:04:13.033 Stop: 00:04:15.633\n",
      "\n",
      "\n",
      "This is the shot list for scene: (00:04:15.633 [frame=7669, fps=30.000], 00:04:29.333 [frame=8080, fps=30.000])\n",
      "\n",
      "\n",
      "Start: 00:04:15.633 Stop: 00:04:21.367\n",
      "Start: 00:04:21.367 Stop: 00:04:29.333\n",
      "\n",
      "\n",
      "This is the shot list for scene: (00:04:29.333 [frame=8080, fps=30.000], 00:04:49.367 [frame=8681, fps=30.000])\n",
      "\n",
      "\n",
      "\n",
      "\n"
     ]
    }
   ],
   "source": [
    "#Now we use scene detect again on the original video, but this time we use the scene list to use the start and stop times to create shots\n",
    "# create ContentDetector object with a threshold\n",
    "detector = scenedetect.detectors.ContentDetector(threshold=shot_threshold,min_scene_len=min_shot_length)\n",
    "# detect scenes in the given start and end time\n",
    "for scene in scenes:\n",
    "    # detect shots in the given start and end time\n",
    "    shots = scenedetect.detect(video_path,detector=detector, start_time=scene[0].get_timecode(), end_time=scene[1].get_timecode())\n",
    "    #print the shots in each scene\n",
    "    print(\"This is the shot list for scene: {}\".format(scene))\n",
    "    print('\\n')\n",
    "    \n",
    "    #create a new list with shots that have different start and stop timecode\n",
    "    filtered_shots = [shot for shot in shots if shot[0].get_timecode() != shot[1].get_timecode()]\n",
    "    \n",
    "    #print the shots in each scene\n",
    "    for shot in filtered_shots:\n",
    "        print('Start: {} Stop: {}'.format(shot[0].get_timecode(),shot[1].get_timecode()))\n",
    "    print('\\n')\n",
    "    \n",
    "    "
   ]
  },
  {
   "cell_type": "code",
   "execution_count": 12,
   "id": "20833d37",
   "metadata": {},
   "outputs": [
    {
     "data": {
      "text/plain": [
       "str"
      ]
     },
     "execution_count": 12,
     "metadata": {},
     "output_type": "execute_result"
    }
   ],
   "source": [
    "type(scenes[0][0].get_timecode())"
   ]
  },
  {
   "cell_type": "code",
   "execution_count": 20,
   "id": "e068f6f8",
   "metadata": {},
   "outputs": [],
   "source": [
    "start_delta = datetime.datetime.strptime(scenes[0][1].get_timecode(), \"%H:%M:%S.%f\") - datetime.datetime.strptime(\"00:00:00.000\", \"%H:%M:%S.%f\")"
   ]
  },
  {
   "cell_type": "code",
   "execution_count": 21,
   "id": "0a3129e3",
   "metadata": {},
   "outputs": [
    {
     "data": {
      "text/plain": [
       "118.2"
      ]
     },
     "execution_count": 21,
     "metadata": {},
     "output_type": "execute_result"
    }
   ],
   "source": [
    "start_delta.total_seconds()"
   ]
  }
 ],
 "metadata": {
  "kernelspec": {
   "display_name": "Python 3 (ipykernel)",
   "language": "python",
   "name": "python3"
  },
  "language_info": {
   "codemirror_mode": {
    "name": "ipython",
    "version": 3
   },
   "file_extension": ".py",
   "mimetype": "text/x-python",
   "name": "python",
   "nbconvert_exporter": "python",
   "pygments_lexer": "ipython3",
   "version": "3.9.12"
  }
 },
 "nbformat": 4,
 "nbformat_minor": 5
}
