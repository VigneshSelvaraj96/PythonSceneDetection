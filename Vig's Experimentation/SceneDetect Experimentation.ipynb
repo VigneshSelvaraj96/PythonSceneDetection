{
 "cells": [
  {
   "cell_type": "code",
   "execution_count": 1,
   "id": "00f03d6a",
   "metadata": {},
   "outputs": [],
   "source": [
    "from scenedetect import SceneManager, open_video, ContentDetector"
   ]
  },
  {
   "cell_type": "code",
   "execution_count": 2,
   "id": "6f872257",
   "metadata": {},
   "outputs": [],
   "source": [
    "video_path = './Data/Ready_Player_One_rgb/InputVideo.mp4'"
   ]
  },
  {
   "cell_type": "code",
   "execution_count": 3,
   "id": "75b046da",
   "metadata": {},
   "outputs": [],
   "source": [
    "threshold = 27\n",
    "#threshold (float) – Threshold the average change in pixel intensity must exceed to trigger a cut.\n",
    "min_scene_length = 30\n",
    "#Once a cut is detected, this many frames must pass before a new one can be added to the scene list."
   ]
  },
  {
   "cell_type": "code",
   "execution_count": 4,
   "id": "996379d2",
   "metadata": {},
   "outputs": [],
   "source": [
    "def find_scenes(video_path):\n",
    "    video = open_video(video_path)\n",
    "    scene_manager = SceneManager()\n",
    "    scene_manager.add_detector(\n",
    "        ContentDetector(threshold=threshold,min_scene_len=min_scene_length))\n",
    "    # Detect all scenes in video from current position to end.\n",
    "    scene_manager.detect_scenes(video)\n",
    "    # `get_scene_list` returns a list of start/end timecode pairs\n",
    "    # for each scene that was found.\n",
    "    return scene_manager.get_scene_list()"
   ]
  },
  {
   "cell_type": "code",
   "execution_count": 5,
   "id": "eeeb6a67",
   "metadata": {},
   "outputs": [
    {
     "data": {
      "text/plain": [
       "[(00:00:00.000 [frame=0, fps=30.000], 00:00:05.367 [frame=161, fps=30.000]),\n",
       " (00:00:05.367 [frame=161, fps=30.000], 00:00:14.000 [frame=420, fps=30.000]),\n",
       " (00:00:14.000 [frame=420, fps=30.000], 00:00:16.933 [frame=508, fps=30.000]),\n",
       " (00:00:16.933 [frame=508, fps=30.000], 00:00:36.000 [frame=1080, fps=30.000]),\n",
       " (00:00:36.000 [frame=1080, fps=30.000],\n",
       "  00:00:37.700 [frame=1131, fps=30.000]),\n",
       " (00:00:37.700 [frame=1131, fps=30.000],\n",
       "  00:00:39.300 [frame=1179, fps=30.000]),\n",
       " (00:00:39.300 [frame=1179, fps=30.000],\n",
       "  00:00:45.033 [frame=1351, fps=30.000]),\n",
       " (00:00:45.033 [frame=1351, fps=30.000],\n",
       "  00:01:48.100 [frame=3243, fps=30.000]),\n",
       " (00:01:48.100 [frame=3243, fps=30.000],\n",
       "  00:01:50.067 [frame=3302, fps=30.000]),\n",
       " (00:01:50.067 [frame=3302, fps=30.000],\n",
       "  00:01:58.200 [frame=3546, fps=30.000]),\n",
       " (00:01:58.200 [frame=3546, fps=30.000],\n",
       "  00:02:05.667 [frame=3770, fps=30.000]),\n",
       " (00:02:05.667 [frame=3770, fps=30.000],\n",
       "  00:02:08.233 [frame=3847, fps=30.000]),\n",
       " (00:02:08.233 [frame=3847, fps=30.000],\n",
       "  00:02:09.300 [frame=3879, fps=30.000]),\n",
       " (00:02:09.300 [frame=3879, fps=30.000],\n",
       "  00:02:13.000 [frame=3990, fps=30.000]),\n",
       " (00:02:13.000 [frame=3990, fps=30.000],\n",
       "  00:02:15.067 [frame=4052, fps=30.000]),\n",
       " (00:02:15.067 [frame=4052, fps=30.000],\n",
       "  00:02:21.033 [frame=4231, fps=30.000]),\n",
       " (00:02:21.033 [frame=4231, fps=30.000],\n",
       "  00:02:24.867 [frame=4346, fps=30.000]),\n",
       " (00:02:24.867 [frame=4346, fps=30.000],\n",
       "  00:02:41.433 [frame=4843, fps=30.000]),\n",
       " (00:02:41.433 [frame=4843, fps=30.000],\n",
       "  00:03:06.600 [frame=5598, fps=30.000]),\n",
       " (00:03:06.600 [frame=5598, fps=30.000],\n",
       "  00:03:24.667 [frame=6140, fps=30.000]),\n",
       " (00:03:24.667 [frame=6140, fps=30.000],\n",
       "  00:03:30.067 [frame=6302, fps=30.000]),\n",
       " (00:03:30.067 [frame=6302, fps=30.000],\n",
       "  00:03:48.533 [frame=6856, fps=30.000]),\n",
       " (00:03:48.533 [frame=6856, fps=30.000],\n",
       "  00:03:52.300 [frame=6969, fps=30.000]),\n",
       " (00:03:52.300 [frame=6969, fps=30.000],\n",
       "  00:03:54.900 [frame=7047, fps=30.000]),\n",
       " (00:03:54.900 [frame=7047, fps=30.000],\n",
       "  00:04:13.033 [frame=7591, fps=30.000]),\n",
       " (00:04:13.033 [frame=7591, fps=30.000],\n",
       "  00:04:15.633 [frame=7669, fps=30.000]),\n",
       " (00:04:15.633 [frame=7669, fps=30.000],\n",
       "  00:04:21.167 [frame=7835, fps=30.000]),\n",
       " (00:04:21.167 [frame=7835, fps=30.000],\n",
       "  00:04:22.533 [frame=7876, fps=30.000]),\n",
       " (00:04:22.533 [frame=7876, fps=30.000],\n",
       "  00:04:23.567 [frame=7907, fps=30.000]),\n",
       " (00:04:23.567 [frame=7907, fps=30.000],\n",
       "  00:04:27.233 [frame=8017, fps=30.000]),\n",
       " (00:04:27.233 [frame=8017, fps=30.000],\n",
       "  00:04:29.333 [frame=8080, fps=30.000]),\n",
       " (00:04:29.333 [frame=8080, fps=30.000],\n",
       "  00:04:30.467 [frame=8114, fps=30.000]),\n",
       " (00:04:30.467 [frame=8114, fps=30.000],\n",
       "  00:04:32.567 [frame=8177, fps=30.000]),\n",
       " (00:04:32.567 [frame=8177, fps=30.000],\n",
       "  00:04:35.600 [frame=8268, fps=30.000]),\n",
       " (00:04:35.600 [frame=8268, fps=30.000],\n",
       "  00:04:43.667 [frame=8510, fps=30.000]),\n",
       " (00:04:43.667 [frame=8510, fps=30.000],\n",
       "  00:04:49.367 [frame=8681, fps=30.000])]"
      ]
     },
     "execution_count": 5,
     "metadata": {},
     "output_type": "execute_result"
    }
   ],
   "source": [
    "find_scenes(video_path)"
   ]
  }
 ],
 "metadata": {
  "kernelspec": {
   "display_name": "Python 3 (ipykernel)",
   "language": "python",
   "name": "python3"
  },
  "language_info": {
   "codemirror_mode": {
    "name": "ipython",
    "version": 3
   },
   "file_extension": ".py",
   "mimetype": "text/x-python",
   "name": "python",
   "nbconvert_exporter": "python",
   "pygments_lexer": "ipython3",
   "version": "3.9.12"
  }
 },
 "nbformat": 4,
 "nbformat_minor": 5
}
